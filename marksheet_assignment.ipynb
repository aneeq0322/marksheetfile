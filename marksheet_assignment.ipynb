{
 "cells": [
  {
   "cell_type": "code",
   "execution_count": null,
   "metadata": {},
   "outputs": [],
   "source": [
    "name=input(\"enter your name:\");\n",
    "roll_no=input(\"enter your roll_no=\")\n",
    "\n",
    "physics=float(input(\" enter your physics marks that you obtained=\"))\n",
    "math=float(input(\" enter your math marks that you obtained=\"))\n",
    "chemistry=float(input(\" enter your chemistry marks that you obtained=\"))\n",
    "urdu=float(input(\" enter your urdu marks that you obtained=\"))\n",
    "english=float(input(\" enter your english marks that you obtained=\"))\n",
    "islamiat=float(input(\" enter your islamiat marks that you obtained=\"))\n",
    "total_marks=550\n",
    "percentage=((physics+math+chemistry+urdu+english+islamiat)/total_marks)*100\n",
    "print(\"\\t\\t\\tMARKSHEET\")\n",
    "print(\"name:\",name, \"\\nroll no=\",roll_no)\n",
    "print(\"subject   \\t\\t marks\\t\\t\")\n",
    "print(\"physics   \\t\\t\",physics,\"\\t\\t\")\n",
    "print(\"math      \\t\\t\",math,\"\\t\\t\")\n",
    "print(\"chemistry \\t\\t\",chemistry,\"\\t\\t\")\n",
    "print(\"urdu      \\t\\t\",urdu,\"\\t\\t\")\n",
    "print(\"english   \\t\\t\",english,\"\\t\\t\")\n",
    "print(\"islamiat  \\t\\t\",islamiat,\"\\t\\t\")\n",
    "print(\"total marks\\t\\t\",total_marks,\"\\t\\t\")\n",
    "\n",
    "if percentage>=80:\n",
    "    print(\"\\npercentage=\",percentage,\"%\\t\\tA+1_grade\")\n",
    "\n",
    "elif percentage<80 and percentage >=70:\n",
    "    print(\"\\npercentage=\",percentage,\"%\\t\\tA_grade\")\n",
    "elif percentage<70 and percentage>=60:\n",
    "    print(\"\\npercentage=\",percentage,\"%\\t\\tB_grade\")\n",
    "        \n",
    "elif percentage<60 and percentage>=50:\n",
    "    print(\"\\npercentage=\",percentage,\"%\\t\\tC_grade\")\n",
    "elif percentage<50 and percentage>=40:\n",
    "    print(\"\\npercentage=\",percentage,\"%\\t\\tD_grade\")\n",
    "\n",
    "elif percentage<60 and percentage>=50:\n",
    "    print(\"\\npercentage=\",percentage,\"%\\t\\tfail\")\n",
    "    \n",
    "\n",
    "\n"
   ]
  },
  {
   "cell_type": "code",
   "execution_count": null,
   "metadata": {},
   "outputs": [],
   "source": []
  }
 ],
 "metadata": {
  "kernelspec": {
   "display_name": "Python 3",
   "language": "python",
   "name": "python3"
  },
  "language_info": {
   "codemirror_mode": {
    "name": "ipython",
    "version": 3
   },
   "file_extension": ".py",
   "mimetype": "text/x-python",
   "name": "python",
   "nbconvert_exporter": "python",
   "pygments_lexer": "ipython3",
   "version": "3.7.3"
  }
 },
 "nbformat": 4,
 "nbformat_minor": 2
}
